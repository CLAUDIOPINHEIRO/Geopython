{
 "metadata": {
  "name": "",
  "signature": "sha256:666f7bbb3b8be312cf856e4da31844da3ee8a1afe5a0ed3e60ce10c5992893dc"
 },
 "nbformat": 3,
 "nbformat_minor": 0,
 "worksheets": [
  {
   "cells": [
    {
     "cell_type": "heading",
     "level": 1,
     "metadata": {},
     "source": [
      "This notebook is the result my answering [this question on Stack Overflow](http://stackoverflow.com/questions/26872337/how-can-i-get-my-contour-plot-superimposed-on-a-basemap/26885815#26885815), by way of teaching myself about contour plots and interpolating point data."
     ]
    },
    {
     "cell_type": "code",
     "collapsed": false,
     "input": [
      "import numpy as np\n",
      "import pandas as pd\n",
      "from matplotlib.mlab import griddata\n",
      "from mpl_toolkits.basemap import Basemap, interp\n",
      "import matplotlib as mpl\n",
      "import matplotlib.pyplot as plt\n",
      "from matplotlib.colors import Normalize\n",
      "mpl.rcParams['figure.figsize'] = (16, 12)\n",
      "%matplotlib inline"
     ],
     "language": "python",
     "metadata": {},
     "outputs": [],
     "prompt_number": 10
    },
    {
     "cell_type": "markdown",
     "metadata": {},
     "source": [
      "This is a dict of lon / lat points (assumed to be WGS84) and associated mean rainfall measurements."
     ]
    },
    {
     "cell_type": "code",
     "collapsed": false,
     "input": [
      "dd = {\"Lon\": {0: 32.600000000000001,\n",
      "  1: 27.100000000000001,\n",
      "  2: 32.700000000000003,\n",
      "  3: 24.199999999999999,\n",
      "  4: 28.5,\n",
      "  5: 28.100000000000001,\n",
      "  6: 27.899999999999999,\n",
      "  7: 24.800000000000001,\n",
      "  8: 31.100000000000001,\n",
      "  9: 25.899999999999999,\n",
      "  10: 29.100000000000001,\n",
      "  11: 25.800000000000001,\n",
      "  12: 33.200000000000003,\n",
      "  13: 28.300000000000001,\n",
      "  14: 27.600000000000001,\n",
      "  15: 28.899999999999999,\n",
      "  16: 31.300000000000001,\n",
      "  17: 31.899999999999999,\n",
      "  18: 23.100000000000001,\n",
      "  19: 31.399999999999999,\n",
      "  20: 27.100000000000001,\n",
      "  21: 24.399999999999999,\n",
      "  22: 28.600000000000001,\n",
      "  23: 31.300000000000001,\n",
      "  24: 23.300000000000001,\n",
      "  25: 30.199999999999999,\n",
      "  26: 24.300000000000001,\n",
      "  27: 26.399999999999999,\n",
      "  28: 23.100000000000001},\n",
      " \"Lat\": {0: -13.6,\n",
      "  1: -16.899999999999999,\n",
      "  2: -10.199999999999999,\n",
      "  3: -13.6,\n",
      "  4: -14.4,\n",
      "  5: -12.6,\n",
      "  6: -15.800000000000001,\n",
      "  7: -14.800000000000001,\n",
      "  8: -10.199999999999999,\n",
      "  9: -13.5,\n",
      "  10: -9.8000000000000007,\n",
      "  11: -17.800000000000001,\n",
      "  12: -12.300000000000001,\n",
      "  13: -15.4,\n",
      "  14: -16.100000000000001,\n",
      "  15: -11.1,\n",
      "  16: -8.9000000000000004,\n",
      "  17: -13.300000000000001,\n",
      "  18: -15.300000000000001,\n",
      "  19: -11.9,\n",
      "  20: -15.0,\n",
      "  21: -11.800000000000001,\n",
      "  22: -13.0,\n",
      "  23: -14.300000000000001,\n",
      "  24: -16.100000000000001,\n",
      "  25: -13.199999999999999,\n",
      "  26: -17.5,\n",
      "  27: -12.199999999999999,\n",
      "  28: -13.5},\n",
      " \"Z\": {0: 41,\n",
      "  1: 43,\n",
      "  2: 46,\n",
      "  3: 33,\n",
      "  4: 43,\n",
      "  5: 33,\n",
      "  6: 46,\n",
      "  7: 44,\n",
      "  8: 35,\n",
      "  9: 24,\n",
      "  10: 10,\n",
      "  11: 39,\n",
      "  12: 44,\n",
      "  13: 46,\n",
      "  14: 47,\n",
      "  15: 31,\n",
      "  16: 39,\n",
      "  17: 45,\n",
      "  18: 31,\n",
      "  19: 39,\n",
      "  20: 42,\n",
      "  21: 15,\n",
      "  22: 39,\n",
      "  23: 44,\n",
      "  24: 39,\n",
      "  25: 38,\n",
      "  26: 32,\n",
      "  27: 23,\n",
      "  28: 27}}"
     ],
     "language": "python",
     "metadata": {},
     "outputs": [],
     "prompt_number": 11
    },
    {
     "cell_type": "code",
     "collapsed": false,
     "input": [
      "data = pd.DataFrame(dd)\n",
      "data.head()"
     ],
     "language": "python",
     "metadata": {},
     "outputs": [
      {
       "html": [
        "<div style=\"max-height:1000px;max-width:1500px;overflow:auto;\">\n",
        "<table border=\"1\" class=\"dataframe\">\n",
        "  <thead>\n",
        "    <tr style=\"text-align: right;\">\n",
        "      <th></th>\n",
        "      <th>Lat</th>\n",
        "      <th>Lon</th>\n",
        "      <th>Z</th>\n",
        "    </tr>\n",
        "  </thead>\n",
        "  <tbody>\n",
        "    <tr>\n",
        "      <th>0</th>\n",
        "      <td>-13.6</td>\n",
        "      <td> 32.6</td>\n",
        "      <td> 41</td>\n",
        "    </tr>\n",
        "    <tr>\n",
        "      <th>1</th>\n",
        "      <td>-16.9</td>\n",
        "      <td> 27.1</td>\n",
        "      <td> 43</td>\n",
        "    </tr>\n",
        "    <tr>\n",
        "      <th>2</th>\n",
        "      <td>-10.2</td>\n",
        "      <td> 32.7</td>\n",
        "      <td> 46</td>\n",
        "    </tr>\n",
        "    <tr>\n",
        "      <th>3</th>\n",
        "      <td>-13.6</td>\n",
        "      <td> 24.2</td>\n",
        "      <td> 33</td>\n",
        "    </tr>\n",
        "    <tr>\n",
        "      <th>4</th>\n",
        "      <td>-14.4</td>\n",
        "      <td> 28.5</td>\n",
        "      <td> 43</td>\n",
        "    </tr>\n",
        "  </tbody>\n",
        "</table>\n",
        "</div>"
       ],
       "metadata": {},
       "output_type": "pyout",
       "prompt_number": 12,
       "text": [
        "    Lat   Lon   Z\n",
        "0 -13.6  32.6  41\n",
        "1 -16.9  27.1  43\n",
        "2 -10.2  32.7  46\n",
        "3 -13.6  24.2  33\n",
        "4 -14.4  28.5  43"
       ]
      }
     ],
     "prompt_number": 12
    },
    {
     "cell_type": "heading",
     "level": 2,
     "metadata": {},
     "source": [
      "Define a map extent, and set up a Basemap instance"
     ]
    },
    {
     "cell_type": "code",
     "collapsed": false,
     "input": [
      "lllon = 21\n",
      "lllat = -18\n",
      "urlon = 34\n",
      "urlat = -8\n",
      "\n",
      "m = Basemap(\n",
      "    projection = 'merc',\n",
      "    llcrnrlon = lllon, llcrnrlat = lllat, urcrnrlon = urlon, urcrnrlat = urlat,\n",
      "    resolution='h')"
     ],
     "language": "python",
     "metadata": {},
     "outputs": [],
     "prompt_number": 6
    },
    {
     "cell_type": "heading",
     "level": 2,
     "metadata": {},
     "source": [
      "Transform lon / lat coordinates to map projection  coordinates"
     ]
    },
    {
     "cell_type": "code",
     "collapsed": false,
     "input": [
      "data['projected_lon'], data['projected_lat'] = m(*(data[\"Lon\"].values, data[\"Lat\"].values))\n",
      "data.head()"
     ],
     "language": "python",
     "metadata": {},
     "outputs": [
      {
       "html": [
        "<div style=\"max-height:1000px;max-width:1500px;overflow:auto;\">\n",
        "<table border=\"1\" class=\"dataframe\">\n",
        "  <thead>\n",
        "    <tr style=\"text-align: right;\">\n",
        "      <th></th>\n",
        "      <th>Lat</th>\n",
        "      <th>Lon</th>\n",
        "      <th>Z</th>\n",
        "      <th>projected_lon</th>\n",
        "      <th>projected_lat</th>\n",
        "    </tr>\n",
        "  </thead>\n",
        "  <tbody>\n",
        "    <tr>\n",
        "      <th>0</th>\n",
        "      <td>-13.6</td>\n",
        "      <td> 32.6</td>\n",
        "      <td> 41</td>\n",
        "      <td> 1289860.541702</td>\n",
        "      <td> 508613.423903</td>\n",
        "    </tr>\n",
        "    <tr>\n",
        "      <th>1</th>\n",
        "      <td>-16.9</td>\n",
        "      <td> 27.1</td>\n",
        "      <td> 43</td>\n",
        "      <td>  678288.733137</td>\n",
        "      <td> 128217.299455</td>\n",
        "    </tr>\n",
        "    <tr>\n",
        "      <th>2</th>\n",
        "      <td>-10.2</td>\n",
        "      <td> 32.7</td>\n",
        "      <td> 46</td>\n",
        "      <td> 1300980.029131</td>\n",
        "      <td> 895041.133113</td>\n",
        "    </tr>\n",
        "    <tr>\n",
        "      <th>3</th>\n",
        "      <td>-13.6</td>\n",
        "      <td> 24.2</td>\n",
        "      <td> 33</td>\n",
        "      <td>  355823.597711</td>\n",
        "      <td> 508613.423903</td>\n",
        "    </tr>\n",
        "    <tr>\n",
        "      <th>4</th>\n",
        "      <td>-14.4</td>\n",
        "      <td> 28.5</td>\n",
        "      <td> 43</td>\n",
        "      <td>  833961.557135</td>\n",
        "      <td> 416933.424216</td>\n",
        "    </tr>\n",
        "  </tbody>\n",
        "</table>\n",
        "</div>"
       ],
       "metadata": {},
       "output_type": "pyout",
       "prompt_number": 13,
       "text": [
        "    Lat   Lon   Z   projected_lon  projected_lat\n",
        "0 -13.6  32.6  41  1289860.541702  508613.423903\n",
        "1 -16.9  27.1  43   678288.733137  128217.299455\n",
        "2 -10.2  32.7  46  1300980.029131  895041.133113\n",
        "3 -13.6  24.2  33   355823.597711  508613.423903\n",
        "4 -14.4  28.5  43   833961.557135  416933.424216"
       ]
      }
     ],
     "prompt_number": 13
    },
    {
     "cell_type": "heading",
     "level": 2,
     "metadata": {},
     "source": [
      "We're going to use Matplotlib's `griddata()` method to interpolate our points"
     ]
    },
    {
     "cell_type": "markdown",
     "metadata": {},
     "source": [
      "From the [docs](http://matplotlib.org/api/mlab_api.html#matplotlib.mlab.griddata):  \n",
      "    \n",
      "`griddata()` interpolates from a nonuniformly spaced grid to some other grid.\n",
      "\n",
      "It fits a surface of the form `z = f(x, y)` to the data in the (usually) nonuniformly spaced vectors `(x, y, z)`, then **interpolates** this surface at the points specified by `(xi, yi)` to produce `zi`."
     ]
    },
    {
     "cell_type": "heading",
     "level": 3,
     "metadata": {},
     "source": [
      "In this case, we already know `z` (as opposed to specifying it as the output of a function `f`) - it's the mean measured rainfall at the point `x, y`)"
     ]
    },
    {
     "cell_type": "code",
     "collapsed": false,
     "input": [
      "# create a regular grid of same extent as our map\n",
      "# grid size will affect the smoothness of the convex hull drawn by our contour plot.\n",
      "# a smaller grid will make it appear more jagged\n",
      "numcols, numrows = 1000, 1000\n",
      "xi = np.linspace(data['projected_lon'].min(), data['projected_lon'].max(), numcols)\n",
      "yi = np.linspace(data['projected_lat'].min(), data['projected_lat'].max(), numrows)\n",
      "xi, yi = np.meshgrid(xi, yi)\n",
      "# interpolate existing values to new grid\n",
      "x, y, z = data['projected_lon'].values, data['projected_lat'].values, data['Z'].values\n",
      "zi = griddata(x, y, z, xi, yi)"
     ],
     "language": "python",
     "metadata": {},
     "outputs": [],
     "prompt_number": 20
    },
    {
     "cell_type": "heading",
     "level": 2,
     "metadata": {},
     "source": [
      "Now that we've interpolated our data, we can create contour plots to display it."
     ]
    },
    {
     "cell_type": "heading",
     "level": 4,
     "metadata": {},
     "source": [
      "I've also displayed the original points as a scatter plot (dark grey markers) - the marker size has been scaled by the original measurement at that point in order to give a sense of that point's contribution to the intensity of the contour plot."
     ]
    },
    {
     "cell_type": "code",
     "collapsed": false,
     "input": [
      "# set up plot\n",
      "plt.clf()\n",
      "fig = plt.figure(figsize=(10., 8.))\n",
      "ax = fig.add_subplot(111, axisbg='w', frame_on=False)\n",
      "\n",
      "norm = Normalize()\n",
      "# draw map details\n",
      "m.drawmapboundary(fill_color = 'white')\n",
      "m.fillcontinents(color='#C0C0C0', lake_color='#7093DB')\n",
      "m.drawcountries(\n",
      "    linewidth=.75, linestyle='solid', color='#000073',\n",
      "    antialiased=True,\n",
      "    ax=ax, zorder=3)\n",
      "\n",
      "m.drawparallels(\n",
      "    np.arange(lllat, urlat, 2.),\n",
      "    color = 'black', linewidth = 0.5,\n",
      "    labels=[True, False, False, False])\n",
      "m.drawmeridians(\n",
      "    np.arange(lllon, urlon, 2.),\n",
      "    color = '0.25', linewidth = 0.5,\n",
      "    labels=[False, False, False, True])\n",
      "\n",
      "# contour plots - line and filled contours, purely for aesthetic reasons\n",
      "con = m.contour(xi, yi, zi, 15, zorder=4, linewidths=.25, linestyles='dashed', colors='k', alpha=0.6)\n",
      "conf = m.contourf(xi, yi, zi, 15, zorder=4, alpha=0.6, cmap='RdPu')\n",
      "# scatter plot - vmin/max for colormap compat\n",
      "m.scatter(\n",
      "    data['projected_lon'],\n",
      "    data['projected_lat'],\n",
      "    color='#545454',\n",
      "    edgecolor='#ffffff',\n",
      "    alpha=.75,\n",
      "    s=50 * norm(data['Z']),\n",
      "    cmap='RdPu',\n",
      "    ax=ax,\n",
      "    vmin=zi.min(), vmax=zi.max(), zorder=4)\n",
      "\n",
      "# add colour bar, title, and scale\n",
      "cbar = plt.colorbar(orientation='horizontal', fraction=.057, pad=0.05)\n",
      "cbar.set_label(\"mm\", fontsize=14)\n",
      "plt.title(\"Mean Rainfall\")\n",
      "m.drawmapscale(\n",
      "    24., -9., 28., -13,\n",
      "    100,\n",
      "    units='km', fontsize=8,\n",
      "    yoffset=None,\n",
      "    barstyle='fancy', labelstyle='simple',\n",
      "    fillcolor1='w', fillcolor2='#000000',\n",
      "    fontcolor='#000000',\n",
      "    zorder=5)\n",
      "\n",
      "plt.tight_layout()\n",
      "plt.savefig(\"data/rainfall.png\", format=\"png\", transparent=True, dpi=300)\n",
      "plt.show()"
     ],
     "language": "python",
     "metadata": {},
     "outputs": [
      {
       "metadata": {},
       "output_type": "display_data",
       "text": [
        "<matplotlib.figure.Figure at 0x11f036910>"
       ]
      },
      {
       "metadata": {},
       "output_type": "display_data",
       "png": "[encoded data removed]",
       "text": [
        "<matplotlib.figure.Figure at 0x12267b110>"
       ]
      }
     ],
     "prompt_number": 36
    },
    {
     "cell_type": "markdown",
     "metadata": {},
     "source": [
      "Also look at http://earthpy.org/interpolation_between_grids_with_basemap.html for grid interpolation"
     ]
    }
   ],
   "metadata": {}
  }
 ]
}